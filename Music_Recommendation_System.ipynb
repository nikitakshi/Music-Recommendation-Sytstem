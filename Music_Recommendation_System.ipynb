{
  "nbformat": 4,
  "nbformat_minor": 0,
  "metadata": {
    "colab": {
      "private_outputs": true,
      "provenance": []
    },
    "kernelspec": {
      "name": "python3",
      "display_name": "Python 3"
    },
    "language_info": {
      "name": "python"
    }
  },
  "cells": [
    {
      "cell_type": "code",
      "execution_count": null,
      "metadata": {
        "id": "AcgVr37eCKKU"
      },
      "outputs": [],
      "source": [
        "import pandas as pd\n",
        "from sklearn import model_selection\n",
        "# import lightgbm as lgb\n",
        "import os\n",
        "import sys\n",
        "import shutil\n",
        "from sklearn.preprocessing import LabelEncoder, MinMaxScaler\n",
        "# from catboost import CatBoostClassifier\n",
        "!pip install lightfm\n",
        "\n",
        "from lightfm import LightFM\n",
        "import scipy.sparse as sp\n",
        "\n",
        "\n",
        "!pip install pyunpack\n",
        "!pip install patool\n",
        "from pyunpack.cli import Archive\n",
        "os.system('apt-get install p7zip')\n",
        "print(os.getcwd())"
      ]
    },
    {
      "cell_type": "code",
      "source": [
        "train = pd.read_csv('/content/train.csv')\n",
        "test = pd.read_csv('/content/test.csv')\n",
        "songs = pd.read_csv('/content/songs.csv')\n",
        "members = pd.read_csv('/content/members.csv')\n",
        "\n",
        "print('Data loading completed!')\n",
        "print(train.shape, test.shape, songs.shape, members.shape)"
      ],
      "metadata": {
        "id": "2poiGBQ2CRsL"
      },
      "execution_count": null,
      "outputs": []
    },
    {
      "cell_type": "code",
      "source": [
        "print(train.columns)\n",
        "print(test.columns)\n",
        "print(songs.columns)\n",
        "print(members.columns)"
      ],
      "metadata": {
        "id": "I0EE6GMgH65k"
      },
      "execution_count": null,
      "outputs": []
    },
    {
      "cell_type": "code",
      "source": [
        "song_cols = ['song_id', 'song_length', 'genre_ids', 'artist_name', 'composer', 'language']\n",
        "train = train.merge(songs[song_cols], on='song_id', how='left')\n",
        "test = test.merge(songs[song_cols], on='song_id', how='left')\n",
        "\n",
        "mem_cols = ['msno', 'city', 'bd', 'gender']\n",
        "train = train.merge(members[mem_cols], on='msno', how='left')\n",
        "test = test.merge(members[mem_cols], on='msno', how='left')\n",
        "\n",
        "for col in [['msno', 'song_id', 'source_system_tab', 'source_screen_name',\n",
        "             'source_type', 'genre_ids', 'artist_name',\n",
        "             'composer', 'language', 'city', 'gender']]:\n",
        "            train[col] = train[col].astype('category')\n",
        "            test[col] = test[col].astype('category')"
      ],
      "metadata": {
        "id": "CRsfpnynH-T6"
      },
      "execution_count": null,
      "outputs": []
    },
    {
      "cell_type": "code",
      "source": [
        "for col in train.columns:\n",
        "    print(train[col].value_counts(), \"\\n\")\n",
        "\n",
        "\n",
        "train = train.drop(['bd', 'msno', 'song_length', 'source_system_tab'], axis = 1)\n",
        "test = test.drop(['bd', 'msno', 'song_length', 'source_system_tab'], axis = 1)"
      ],
      "metadata": {
        "id": "w-KRGDMQIBXE"
      },
      "execution_count": null,
      "outputs": []
    },
    {
      "cell_type": "code",
      "source": [
        "train.columns"
      ],
      "metadata": {
        "id": "-dph8KJOIUmj"
      },
      "execution_count": null,
      "outputs": []
    },
    {
      "cell_type": "code",
      "source": [
        "test.columns"
      ],
      "metadata": {
        "id": "yZM9gHqfIa1Y"
      },
      "execution_count": null,
      "outputs": []
    },
    {
      "cell_type": "code",
      "source": [
        "df_col = [ 'song_id', 'source_screen_name',\n",
        "       'source_type', 'genre_ids', 'artist_name', 'language', 'city', 'gender']\n",
        "train = train.drop(['composer'], axis=1)\n",
        "test = test.drop(['composer'], axis=1)\n",
        "from sklearn.preprocessing import LabelEncoder\n",
        "\n",
        "for i in range(len(df_col)):\n",
        "    train[df_col[i]] = LabelEncoder().fit_transform(train[df_col[i]])\n",
        "\n",
        "for i in range(len(df_col)):\n",
        "    test[df_col[i]] = LabelEncoder().fit_transform(test[df_col[i]])"
      ],
      "metadata": {
        "id": "xjUOMe4cIh1W"
      },
      "execution_count": null,
      "outputs": []
    },
    {
      "cell_type": "code",
      "source": [
        "from sklearn.impute import SimpleImputer\n",
        "my_imputer = SimpleImputer()\n",
        "train = my_imputer.fit_transform(train)\n",
        "\n",
        "my_imputer = SimpleImputer()\n",
        "test = my_imputer.fit_transform(test)"
      ],
      "metadata": {
        "id": "fq2w5zTwIj4S"
      },
      "execution_count": null,
      "outputs": []
    },
    {
      "cell_type": "code",
      "source": [
        "train"
      ],
      "metadata": {
        "id": "IC62u7bSIuXK"
      },
      "execution_count": null,
      "outputs": []
    },
    {
      "cell_type": "code",
      "source": [
        "test"
      ],
      "metadata": {
        "id": "Ne78Qd9ZIyHz"
      },
      "execution_count": null,
      "outputs": []
    },
    {
      "cell_type": "code",
      "source": [
        "train = pd.DataFrame(train, columns = [ 'song_id', 'source_screen_name','source_type',\n",
        "                                       'target',  'genre_ids', 'artist_name', 'language',\n",
        "                                       'city', 'gender'])\n",
        "test = pd.DataFrame(test, columns = ['id', 'song_id', 'source_screen_name','source_type',\n",
        "                                       'genre_ids', 'artist_name', 'language',\n",
        "                                       'city', 'gender'])"
      ],
      "metadata": {
        "id": "K7X5i5EYI2NK"
      },
      "execution_count": null,
      "outputs": []
    },
    {
      "cell_type": "code",
      "source": [
        "test"
      ],
      "metadata": {
        "id": "9qjmy3oMI7DW"
      },
      "execution_count": null,
      "outputs": []
    },
    {
      "cell_type": "code",
      "source": [
        "train = train.astype(int)\n",
        "test = test.astype(int)"
      ],
      "metadata": {
        "id": "od8N9i23JAnK"
      },
      "execution_count": null,
      "outputs": []
    },
    {
      "cell_type": "code",
      "source": [
        "from sklearn.ensemble import RandomForestClassifier\n",
        "\n",
        "from sklearn.model_selection import train_test_split\n",
        "\n",
        "X = train\n",
        "X = X.drop(['target'], axis = 1)\n",
        "y = train[['target']]\n",
        "\n",
        "print(X.head())\n",
        "print(y.head())"
      ],
      "metadata": {
        "id": "Ik4gy9uzJBfa"
      },
      "execution_count": null,
      "outputs": []
    },
    {
      "cell_type": "code",
      "source": [
        "X_train, X_test, y_train, y_test = train_test_split(X, y, test_size = 0.30)\n",
        "clf = RandomForestClassifier(n_estimators = 16)\n",
        "clf.fit(X_train, y_train.values.ravel())\n",
        "y_pred = clf.predict(X_test)\n",
        "from sklearn import metrics\n",
        "print()\n",
        "\n",
        "# using metrics module for accuracy calculation\n",
        "print(\"ACCURACY OF THE MODEL: \", metrics.accuracy_score(y_test, y_pred))"
      ],
      "metadata": {
        "id": "YNlBTOFdJH47"
      },
      "execution_count": null,
      "outputs": []
    },
    {
      "cell_type": "code",
      "source": [
        "pred = clf.predict(test.drop(['id'], axis = 1))\n",
        "\n",
        "\n",
        "subm = pd.DataFrame()\n",
        "subm['id'] = test['id']\n",
        "subm['target'] = pred\n",
        "\n",
        "subm"
      ],
      "metadata": {
        "id": "j-K_pfNCJOCL"
      },
      "execution_count": null,
      "outputs": []
    },
    {
      "cell_type": "code",
      "source": [],
      "metadata": {
        "id": "1X05hNwPJRTz"
      },
      "execution_count": null,
      "outputs": []
    }
  ]
}